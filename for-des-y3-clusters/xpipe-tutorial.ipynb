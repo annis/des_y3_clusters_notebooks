{
 "cells": [
  {
   "cell_type": "markdown",
   "id": "c3a4e850-9f56-4ce5-b4d2-490454d64731",
   "metadata": {},
   "source": [
    "<img align=\"left\" src =https://upload.wikimedia.org/wikipedia/commons/2/22/Dark_Energy_Survey_logo.jpg width=150 style=\"padding: 10px\"> <br>\n",
    "\n",
    "<b>xpipe tutorial: SPT cluster-shear correlation function, cluster-redmagic galaxy correlation functions</b> <br>\n",
    "Contact author: <i>Jim Annis</i> <br>\n",
    "Last verified to run: <i>2022-02-04</i> <br>\n",
    "Targeted  level: <i>Cluster Cosmology Team</i> <br>\n",
    " "
   ]
  },
  {
   "cell_type": "markdown",
   "id": "26308a59-417a-4d91-a1b0-216986a8a388",
   "metadata": {},
   "source": [
    "## 1.1 Imports"
   ]
  },
  {
   "cell_type": "code",
   "execution_count": 6,
   "id": "daf21e1a-1c03-46ec-bbb5-1f654ffdeb3d",
   "metadata": {},
   "outputs": [],
   "source": [
    "import numpy as np\n",
    "import matplotlib.pyplot as plt\n",
    "plt.set_loglevel(\"info\") # magic! Fantastic- it gets rid of the extensive debugging messages\n",
    "\n",
    "import fitsio\n",
    "import astropy.units as u\n",
    "import pandas as pd\n",
    "import treecorr as tc\n",
    "import seaborn as sns\n",
    "from astropy.cosmology import FlatLambdaCDM\n",
    "\n",
    "#from dark_emulator import model_hod\n",
    "#"
   ]
  },
  {
   "cell_type": "code",
   "execution_count": 17,
   "id": "43401c6c-fa8c-4526-b1d1-72026c81c1f5",
   "metadata": {},
   "outputs": [
    {
     "name": "stdout",
     "output_type": "stream",
     "text": [
      "88696544e32c424ea4864ebef146ad9f\n"
     ]
    }
   ],
   "source": [
    "import os\n",
    "print(os.environ['JUPYTERHUB_API_TOKEN'])"
   ]
  },
  {
   "cell_type": "markdown",
   "id": "76e2dcb3-413b-4b2f-8a0b-ce3f350741b7",
   "metadata": {},
   "source": [
    "## 1.2 Data Location\n",
    "\n",
    "SPT is from [the pole.uchicago SPT Cluster samples page](https://pole.uchicago.edu/public/data/sptsz-clusters/), and is the [SPTpol Extended Cluster Survey catalog](https://pole.uchicago.edu/public/data/sptsz-clusters/sptecs_catalog_oct919.fits) with [Bleem et al 2019 paper](http://arxiv.org/abs/1910.04121)\n"
   ]
  },
  {
   "cell_type": "code",
   "execution_count": 18,
   "id": "6d0e5cef-41e2-4cea-bbde-613c884c9f09",
   "metadata": {},
   "outputs": [],
   "source": [
    "# SPT \n",
    "global_data = \"/global/cfs/cdirs/des/y3-clusters/\"\n",
    "spt_data = global_data + \"SZ_catalogs/\"\n",
    "spt = spt_data + \"sptecs_catalog_oct919.fits\"\n",
    "\n",
    "# redmagic_filename = 'y3_gold_2.2.1_wide_sofcol_run_redmapper_v0.5.1_redmagic_highdens.fit'  \n",
    "# randoms_filename = 'y3_gold_2.2.1_wide_sofcol_run_redmapper_v0.5.1_redmagic_highdens_randoms.fit'"
   ]
  },
  {
   "cell_type": "code",
   "execution_count": 19,
   "id": "fe58ecaf-58d7-44a3-a06a-d815ef831a46",
   "metadata": {},
   "outputs": [
    {
     "ename": "SyntaxError",
     "evalue": "invalid syntax (52452452.py, line 3)",
     "output_type": "error",
     "traceback": [
      "\u001b[0;36m  Input \u001b[0;32mIn [19]\u001b[0;36m\u001b[0m\n\u001b[0;31m    spt_id =\u001b[0m\n\u001b[0m            ^\u001b[0m\n\u001b[0;31mSyntaxError\u001b[0m\u001b[0;31m:\u001b[0m invalid syntax\n"
     ]
    }
   ],
   "source": [
    "d=fitsio.FITS(spt)\n",
    "print(d[1])\n",
    "spt_id ="
   ]
  },
  {
   "cell_type": "code",
   "execution_count": null,
   "id": "7bd38f88-6c84-4b48-a9b2-902fd2022a0a",
   "metadata": {},
   "outputs": [],
   "source": [
    "def create_act(filename, ftype = 'cluster'):\n",
    "    \n",
    "    '''    \n",
    "    This function converts the redmagic galaxy and random\n",
    "    data into pandas dataframe for easy application of \n",
    "    various cuts\n",
    "    '''\n",
    "    \n",
    "    if ftype == 'cluster':\n",
    "        columns = ['ra', 'dec', 'z', 'Y', \n",
    "                   'DESY3', 'match_rm', 'lam', \n",
    "                   'Camira', 'match_cam','n_mem',\n",
    "                   'snr']\n",
    "        f = fitsio.FITS(filename)\n",
    "        df = pd.DataFrame(np.stack((f[1]['raDeg'][:], f[1]['decDeg'][:], f[1]['redshift'][:], f[1]['y_c'][:], \n",
    "                                    f[1]['footprint_DESY3'][:],  f[1]['RMDESY3'][:], f[1]['RMDESY3_LAMBDA_CHISQ'][:], \n",
    "                                    f[1]['footprint_HSCs19a'][:],  f[1]['CAMIRA'][:], f[1]['CAMIRA_N_mem'][:],\n",
    "                                    f[1]['fixed_SNR'][:]\n",
    "                                    ), axis=-1), columns = columns)\n",
    "        print(\"writing \" + data_path+\"act_catalog_clusters.pkl\")\n",
    "        df.to_pickle(data_path+\"act_catalog_clusters.pkl\")\n",
    "     \n",
    "if create_act_pickles:\n",
    "    create_act(data_path+\"DR5_cluster-catalog_v1.1.fits\")\n",
    "        \n",
    "#"
   ]
  }
 ],
 "metadata": {
  "kernelspec": {
   "display_name": "des_y3_clusters",
   "language": "python",
   "name": "des_y3_clusters"
  },
  "language_info": {
   "codemirror_mode": {
    "name": "ipython",
    "version": 3
   },
   "file_extension": ".py",
   "mimetype": "text/x-python",
   "name": "python",
   "nbconvert_exporter": "python",
   "pygments_lexer": "ipython3",
   "version": "3.10.2"
  }
 },
 "nbformat": 4,
 "nbformat_minor": 5
}
